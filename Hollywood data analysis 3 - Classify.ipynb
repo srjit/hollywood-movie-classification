{
 "cells": [
  {
   "cell_type": "code",
   "execution_count": 2,
   "metadata": {},
   "outputs": [],
   "source": [
    "%load_ext autoreload\n",
    "%autoreload 2\n",
    "%matplotlib inline\n",
    "\n",
    "import warnings\n",
    "warnings.filterwarnings('ignore')"
   ]
  },
  {
   "cell_type": "code",
   "execution_count": 17,
   "metadata": {},
   "outputs": [],
   "source": [
    "import pandas as pd\n",
    "import numpy as np\n",
    "from collections import Counter\n",
    "\n",
    "from sklearn.preprocessing import StandardScaler, OneHotEncoder, LabelEncoder\n",
    "import seaborn as sns\n",
    "sns.set()\n",
    "\n",
    "from scipy import sparse as sp\n",
    "\n",
    "from sklearn.model_selection import train_test_split\n",
    "from sklearn.feature_extraction.text import TfidfVectorizer\n",
    "\n",
    "import metrics\n",
    "\n",
    "from sklearn.linear_model import LogisticRegression\n",
    "from sklearn.svm import SVC\n",
    "from sklearn.ensemble import RandomForestClassifier\n",
    "import xgboost as xgb"
   ]
  },
  {
   "cell_type": "code",
   "execution_count": 4,
   "metadata": {},
   "outputs": [],
   "source": [
    "train = pd.read_excel(\"Training sheet.xlsx\")\n",
    "test = pd.read_excel(\"Scoring Sheet.xlsx\")"
   ]
  },
  {
   "cell_type": "code",
   "execution_count": 5,
   "metadata": {},
   "outputs": [],
   "source": [
    "X = train[['movie_sequel', 'creative_type', 'source', 'production_method',\n",
    "          'genre', 'language', 'board_rating_reason', 'movie_board_rating_display_name',\n",
    "          'movie_release_pattern_display_name']]\n",
    "y = train[\"Category\"]"
   ]
  },
  {
   "cell_type": "code",
   "execution_count": 6,
   "metadata": {},
   "outputs": [],
   "source": [
    "# encoding other categorical variables by one hot encoding\n",
    "creative_type_cols = pd.get_dummies(train['creative_type'])\n",
    "source_cols = pd.get_dummies(train['source'])\n",
    "production_method_cols = pd.get_dummies(train['production_method'])\n",
    "genre_cols = pd.get_dummies(train['genre'])\n",
    "language_cols = pd.get_dummies(train['language'])\n",
    "rating_cols = pd.get_dummies(train['movie_board_rating_display_name'])\n",
    "release_pattern_display_name = pd.get_dummies(train['movie_release_pattern_display_name'])\n",
    "\n",
    "# encoding other categorical variables by one hot encoding\n",
    "creative_type_cols_test = pd.get_dummies(test['creative_type'])\n",
    "source_cols_test = pd.get_dummies(test['source'])\n",
    "production_method_cols_test = pd.get_dummies(test['production_method'])\n",
    "genre_cols_test = pd.get_dummies(test['genre'])\n",
    "language_cols_test = pd.get_dummies(test['language'])\n",
    "rating_cols_test = pd.get_dummies(test['movie_board_rating_display_name'])\n",
    "release_pattern_display_name_test = pd.get_dummies(test['movie_release_pattern_display_name'])"
   ]
  },
  {
   "cell_type": "code",
   "execution_count": 7,
   "metadata": {},
   "outputs": [],
   "source": [
    "train_transformed = pd.concat([creative_type_cols, source_cols, \n",
    "                               production_method_cols, genre_cols, \n",
    "                               language_cols, rating_cols, release_pattern_display_name], axis=1)\n",
    "\n",
    "test_transformed = pd.concat([creative_type_cols_test, source_cols_test, \n",
    "                              production_method_cols_test, genre_cols_test, \n",
    "                              language_cols_test, rating_cols_test, release_pattern_display_name_test], axis=1)"
   ]
  },
  {
   "cell_type": "code",
   "execution_count": 8,
   "metadata": {},
   "outputs": [],
   "source": [
    "train_features = train_transformed.columns\n",
    "test_features = test_transformed.columns\n",
    "\n",
    "# features in train which are not present in test\n",
    "features_ = [feature for feature in train_features if feature not in test_features]\n",
    "\n",
    "# Setting the one hot encoding of the absent feature to  zero in test data\n",
    "for feature in features_:\n",
    "    test_transformed[feature] = 0\n",
    "    \n",
    "# New levels which have come for columns in test have to be removed now (to avoid the not seen error) - \n",
    "# so, taking only the columns which were present in train data\n",
    "\n",
    "test_transformed = test_transformed[train_features]"
   ]
  },
  {
   "cell_type": "code",
   "execution_count": 9,
   "metadata": {},
   "outputs": [],
   "source": [
    "vectorizer = TfidfVectorizer()\n",
    "\n",
    "# board rating train vectorized\n",
    "rating_vec = vectorizer.fit_transform(train[\"board_rating_reason\"])\n",
    "\n",
    "text_feature_cols = vectorizer.vocabulary_\n",
    "rev_dictionary = {v:k for k,v in vectorizer.vocabulary_.items()}\n",
    "cols_text_features = [v for k,v in rev_dictionary.items()]\n",
    "train_transformed2 = sp.hstack([train_transformed, rating_vec])\n",
    "\n",
    "\n",
    "# # # vectorizing test data\n",
    "rating_vec_test = vectorizer.transform(test[\"board_rating_reason\"])\n",
    "test_transformed2 = sp.hstack([test_transformed, rating_vec_test])"
   ]
  },
  {
   "cell_type": "markdown",
   "metadata": {},
   "source": [
    "### Choosing two classifiers which provided the best scores during testing"
   ]
  },
  {
   "cell_type": "markdown",
   "metadata": {},
   "source": [
    "## Random Forest Classifier"
   ]
  },
  {
   "cell_type": "markdown",
   "metadata": {},
   "source": [
    "Random Forest Classifier seems to have done the best on the classification procedure.\n",
    "Using it for final prediction."
   ]
  },
  {
   "cell_type": "code",
   "execution_count": 10,
   "metadata": {},
   "outputs": [
    {
     "data": {
      "text/plain": [
       "RandomForestClassifier(bootstrap=True, class_weight=None, criterion='gini',\n",
       "            max_depth=8, max_features='auto', max_leaf_nodes=None,\n",
       "            min_impurity_decrease=0.0, min_impurity_split=None,\n",
       "            min_samples_leaf=1, min_samples_split=2,\n",
       "            min_weight_fraction_leaf=0.0, n_estimators=30, n_jobs=None,\n",
       "            oob_score=False, random_state=None, verbose=0,\n",
       "            warm_start=False)"
      ]
     },
     "execution_count": 10,
     "metadata": {},
     "output_type": "execute_result"
    }
   ],
   "source": [
    "clf_rf = RandomForestClassifier(n_estimators=30, max_depth=8)\n",
    "clf_rf.fit(train_transformed, y)"
   ]
  },
  {
   "cell_type": "code",
   "execution_count": 11,
   "metadata": {},
   "outputs": [],
   "source": [
    "predictions1 = pd.Series(clf_rf.predict(test_transformed), name=\"Predictions\")\n",
    "predictions1.to_csv(\"prediction1.csv\", index=False)"
   ]
  },
  {
   "cell_type": "markdown",
   "metadata": {},
   "source": [
    "## Fusion Classifier"
   ]
  },
  {
   "cell_type": "code",
   "execution_count": 13,
   "metadata": {},
   "outputs": [],
   "source": [
    "clf_lr = LogisticRegression(multi_class=\"ovr\", C=0.7)\n",
    "clf_lr.fit(train_transformed, y)\n",
    "pred_lr = clf_lr.predict(test_transformed)\n",
    "\n",
    "clf_svm = SVC(C=0.5, kernel='linear')\n",
    "clf_svm.fit(train_transformed, y)\n",
    "pred_svm = clf_svm.predict(test_transformed)\n",
    "\n",
    "clf_rf = RandomForestClassifier(n_estimators=30, max_depth=8)\n",
    "clf_rf.fit(train_transformed, y)\n",
    "pred_rf = clf_rf.predict(test_transformed)\n",
    "\n",
    "clf_xgb = xgb.XGBClassifier(max_depth=5, nthread=-1)\n",
    "clf_xgb.fit(train_transformed, y)\n",
    "pred_xgb = clf_xgb.predict(test_transformed)"
   ]
  },
  {
   "cell_type": "code",
   "execution_count": 14,
   "metadata": {},
   "outputs": [],
   "source": [
    "# construct a dataframe of all the test data predictions\n",
    "pred_fusion = pd.concat([pd.Series(list(pred_lr), name=\"lr\"), \n",
    "                         pd.Series(list(pred_svm), name=\"svm\"), \n",
    "                         pd.Series(list(pred_rf), name=\"rf\"), \n",
    "                         pd.Series(list(pred_xgb), name=\"xgb\")], axis=1)"
   ]
  },
  {
   "cell_type": "code",
   "execution_count": 15,
   "metadata": {},
   "outputs": [
    {
     "data": {
      "text/html": [
       "<div>\n",
       "<style scoped>\n",
       "    .dataframe tbody tr th:only-of-type {\n",
       "        vertical-align: middle;\n",
       "    }\n",
       "\n",
       "    .dataframe tbody tr th {\n",
       "        vertical-align: top;\n",
       "    }\n",
       "\n",
       "    .dataframe thead th {\n",
       "        text-align: right;\n",
       "    }\n",
       "</style>\n",
       "<table border=\"1\" class=\"dataframe\">\n",
       "  <thead>\n",
       "    <tr style=\"text-align: right;\">\n",
       "      <th></th>\n",
       "      <th>lr</th>\n",
       "      <th>svm</th>\n",
       "      <th>rf</th>\n",
       "      <th>xgb</th>\n",
       "    </tr>\n",
       "  </thead>\n",
       "  <tbody>\n",
       "    <tr>\n",
       "      <th>0</th>\n",
       "      <td>6</td>\n",
       "      <td>6</td>\n",
       "      <td>6</td>\n",
       "      <td>9</td>\n",
       "    </tr>\n",
       "    <tr>\n",
       "      <th>1</th>\n",
       "      <td>7</td>\n",
       "      <td>6</td>\n",
       "      <td>7</td>\n",
       "      <td>7</td>\n",
       "    </tr>\n",
       "    <tr>\n",
       "      <th>2</th>\n",
       "      <td>3</td>\n",
       "      <td>3</td>\n",
       "      <td>3</td>\n",
       "      <td>3</td>\n",
       "    </tr>\n",
       "    <tr>\n",
       "      <th>3</th>\n",
       "      <td>4</td>\n",
       "      <td>4</td>\n",
       "      <td>4</td>\n",
       "      <td>8</td>\n",
       "    </tr>\n",
       "    <tr>\n",
       "      <th>4</th>\n",
       "      <td>9</td>\n",
       "      <td>9</td>\n",
       "      <td>9</td>\n",
       "      <td>9</td>\n",
       "    </tr>\n",
       "  </tbody>\n",
       "</table>\n",
       "</div>"
      ],
      "text/plain": [
       "   lr  svm  rf  xgb\n",
       "0   6    6   6    9\n",
       "1   7    6   7    7\n",
       "2   3    3   3    3\n",
       "3   4    4   4    8\n",
       "4   9    9   9    9"
      ]
     },
     "execution_count": 15,
     "metadata": {},
     "output_type": "execute_result"
    }
   ],
   "source": [
    "pred_fusion.head()"
   ]
  },
  {
   "cell_type": "code",
   "execution_count": 18,
   "metadata": {},
   "outputs": [],
   "source": [
    "def vote(candidates):\n",
    "    # default vote to Random Forest candidate\n",
    "    default_vote = candidates[2]\n",
    "    \n",
    "    most_common = Counter(candidates).most_common()\n",
    "    if(len(most_common) == 1):\n",
    "        default_vote = most_common[0][0]\n",
    "    \n",
    "    return default_vote\n",
    "    \n",
    "pred_fusion[\"prediction\"] = pred_fusion.apply(lambda row: vote([row[\"lr\"], row[\"svm\"], row[\"rf\"], row[\"xgb\"]]), axis=1)\n",
    "pred_fusion[\"prediction\"].to_csv(\"prediction2.csv\", index=False)"
   ]
  },
  {
   "cell_type": "markdown",
   "metadata": {},
   "source": [
    "__Two submissions:__ \n",
    "    \n",
    "    Note: The files are kept in the same folder\n",
    "    \n",
    "    1) predictions1.csv\n",
    "    2) predictions2.csv"
   ]
  },
  {
   "cell_type": "code",
   "execution_count": null,
   "metadata": {},
   "outputs": [],
   "source": []
  }
 ],
 "metadata": {
  "kernelspec": {
   "display_name": "Python 3",
   "language": "python",
   "name": "python3"
  },
  "language_info": {
   "codemirror_mode": {
    "name": "ipython",
    "version": 3
   },
   "file_extension": ".py",
   "mimetype": "text/x-python",
   "name": "python",
   "nbconvert_exporter": "python",
   "pygments_lexer": "ipython3",
   "version": "3.7.1"
  }
 },
 "nbformat": 4,
 "nbformat_minor": 2
}
