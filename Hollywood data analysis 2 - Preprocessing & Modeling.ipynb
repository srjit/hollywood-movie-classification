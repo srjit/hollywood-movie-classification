{
 "cells": [
  {
   "cell_type": "code",
   "execution_count": 1,
   "metadata": {},
   "outputs": [],
   "source": [
    "%load_ext autoreload\n",
    "%autoreload 2\n",
    "%matplotlib inline\n",
    "\n",
    "import warnings\n",
    "warnings.filterwarnings('ignore')"
   ]
  },
  {
   "cell_type": "code",
   "execution_count": 47,
   "metadata": {},
   "outputs": [],
   "source": [
    "import pandas as pd\n",
    "import numpy as np\n",
    "from collections import Counter\n",
    "\n",
    "from sklearn.preprocessing import StandardScaler, OneHotEncoder, LabelEncoder\n",
    "import seaborn as sns\n",
    "sns.set()\n",
    "\n",
    "from scipy import sparse as sp\n",
    "\n",
    "from sklearn.model_selection import train_test_split\n",
    "from sklearn.feature_extraction.text import TfidfVectorizer\n",
    "\n",
    "import metrics\n",
    "\n",
    "from sklearn.linear_model import LogisticRegression\n",
    "from sklearn.svm import SVC\n",
    "from sklearn.ensemble import RandomForestClassifier\n",
    "import xgboost as xgb"
   ]
  },
  {
   "cell_type": "code",
   "execution_count": 6,
   "metadata": {},
   "outputs": [],
   "source": [
    "data = pd.read_excel(\"Training sheet.xlsx\")"
   ]
  },
  {
   "cell_type": "code",
   "execution_count": 7,
   "metadata": {},
   "outputs": [],
   "source": [
    "X = data[['production_year', 'movie_sequel', 'creative_type', 'source', 'production_method',\n",
    "          'genre', 'language', 'board_rating_reason', 'movie_board_rating_display_name',\n",
    "          'movie_release_pattern_display_name']]\n",
    "\n",
    "y = data[\"Category\"]"
   ]
  },
  {
   "cell_type": "code",
   "execution_count": 8,
   "metadata": {},
   "outputs": [
    {
     "name": "stdout",
     "output_type": "stream",
     "text": [
      "Counter({2: 207, 3: 203, 4: 170, 1: 151, 5: 114, 6: 68, 7: 53, 8: 34, 9: 16})\n",
      "Counter({3: 42, 2: 40, 4: 36, 5: 18, 1: 17, 6: 12, 7: 8, 8: 4, 9: 3})\n"
     ]
    }
   ],
   "source": [
    "X_train, X_test, y_train, y_test = train_test_split(X, y, test_size=0.15, random_state=20)\n",
    "\n",
    "X_train.reset_index(inplace=True)\n",
    "X_test.reset_index(inplace=True)\n",
    "\n",
    "\n",
    "# checking if all the classes are included in test data\n",
    "from collections import Counter\n",
    "print(Counter(y_train))\n",
    "print(Counter(y_test))"
   ]
  },
  {
   "cell_type": "markdown",
   "metadata": {},
   "source": [
    "The seed looks good, we have all classes in test and the sampling proportions looks decent."
   ]
  },
  {
   "cell_type": "code",
   "execution_count": 9,
   "metadata": {},
   "outputs": [],
   "source": [
    "# preprocessing the categorical columns of train dataset\n",
    "\n",
    "# year could be encoded as a quantitative field\n",
    "# le = LabelEncoder()\n",
    "# X_train[\"year\"] = pd.Series(le.fit_transform(X_train[\"production_year\"]))\n",
    "\n",
    "# encoding other categorical variables by one hot encoding\n",
    "creative_type_cols = pd.get_dummies(X_train['creative_type'])\n",
    "source_cols = pd.get_dummies(X_train['source'])\n",
    "production_method_cols = pd.get_dummies(X_train['production_method'])\n",
    "genre_cols = pd.get_dummies(X_train['genre'])\n",
    "language_cols = pd.get_dummies(X_train['language'])\n",
    "rating_cols = pd.get_dummies(X_train['movie_board_rating_display_name'])\n",
    "release_pattern_display_name = pd.get_dummies(X_train['movie_release_pattern_display_name'])\n",
    "\n",
    "\n",
    "# doing the same preprocessing for the test set\n",
    "# X_test[\"year\"] = le.transform(X_test['production_year'])\n",
    "\n",
    "# encoding other categorical variables by one hot encoding\n",
    "creative_type_cols_test = pd.get_dummies(X_test['creative_type'])\n",
    "source_cols_test = pd.get_dummies(X_test['source'])\n",
    "production_method_cols_test = pd.get_dummies(X_test['production_method'])\n",
    "genre_cols_test = pd.get_dummies(X_test['genre'])\n",
    "language_cols_test = pd.get_dummies(X_test['language'])\n",
    "rating_cols_test = pd.get_dummies(X_test['movie_board_rating_display_name'])\n",
    "release_pattern_display_name_test = pd.get_dummies(X_test['movie_release_pattern_display_name'])"
   ]
  },
  {
   "cell_type": "code",
   "execution_count": 10,
   "metadata": {},
   "outputs": [
    {
     "data": {
      "text/html": [
       "<div>\n",
       "<style scoped>\n",
       "    .dataframe tbody tr th:only-of-type {\n",
       "        vertical-align: middle;\n",
       "    }\n",
       "\n",
       "    .dataframe tbody tr th {\n",
       "        vertical-align: top;\n",
       "    }\n",
       "\n",
       "    .dataframe thead th {\n",
       "        text-align: right;\n",
       "    }\n",
       "</style>\n",
       "<table border=\"1\" class=\"dataframe\">\n",
       "  <thead>\n",
       "    <tr style=\"text-align: right;\">\n",
       "      <th></th>\n",
       "      <th>index</th>\n",
       "      <th>production_year</th>\n",
       "      <th>movie_sequel</th>\n",
       "      <th>creative_type</th>\n",
       "      <th>source</th>\n",
       "      <th>production_method</th>\n",
       "      <th>genre</th>\n",
       "      <th>language</th>\n",
       "      <th>board_rating_reason</th>\n",
       "      <th>movie_board_rating_display_name</th>\n",
       "      <th>movie_release_pattern_display_name</th>\n",
       "    </tr>\n",
       "  </thead>\n",
       "  <tbody>\n",
       "    <tr>\n",
       "      <th>0</th>\n",
       "      <td>832</td>\n",
       "      <td>2009</td>\n",
       "      <td>0</td>\n",
       "      <td>Factual</td>\n",
       "      <td>Based on Real Life Events</td>\n",
       "      <td>Live Action</td>\n",
       "      <td>Documentary</td>\n",
       "      <td>English</td>\n",
       "      <td>For some language</td>\n",
       "      <td>R</td>\n",
       "      <td>Limited</td>\n",
       "    </tr>\n",
       "    <tr>\n",
       "      <th>1</th>\n",
       "      <td>532</td>\n",
       "      <td>2007</td>\n",
       "      <td>0</td>\n",
       "      <td>Contemporary Fiction</td>\n",
       "      <td>Original Screenplay</td>\n",
       "      <td>Live Action</td>\n",
       "      <td>Drama</td>\n",
       "      <td>English</td>\n",
       "      <td>for comic sexual content and some violence</td>\n",
       "      <td>PG-13</td>\n",
       "      <td>Wide</td>\n",
       "    </tr>\n",
       "    <tr>\n",
       "      <th>2</th>\n",
       "      <td>1174</td>\n",
       "      <td>2009</td>\n",
       "      <td>0</td>\n",
       "      <td>Factual</td>\n",
       "      <td>Based on Real Life Events</td>\n",
       "      <td>Live Action</td>\n",
       "      <td>Documentary</td>\n",
       "      <td>English</td>\n",
       "      <td>International - to be excluded</td>\n",
       "      <td>Not Rated</td>\n",
       "      <td>Limited</td>\n",
       "    </tr>\n",
       "    <tr>\n",
       "      <th>3</th>\n",
       "      <td>751</td>\n",
       "      <td>2009</td>\n",
       "      <td>0</td>\n",
       "      <td>Contemporary Fiction</td>\n",
       "      <td>Original Screenplay</td>\n",
       "      <td>Live Action</td>\n",
       "      <td>Romantic Comedy</td>\n",
       "      <td>English</td>\n",
       "      <td>for language and some suggestive material (rer...</td>\n",
       "      <td>PG</td>\n",
       "      <td>Wide</td>\n",
       "    </tr>\n",
       "    <tr>\n",
       "      <th>4</th>\n",
       "      <td>726</td>\n",
       "      <td>2010</td>\n",
       "      <td>0</td>\n",
       "      <td>Science Fiction</td>\n",
       "      <td>Original Screenplay</td>\n",
       "      <td>Live Action</td>\n",
       "      <td>Thriller/Suspense</td>\n",
       "      <td>English</td>\n",
       "      <td>for some disturbing sequences, and language.</td>\n",
       "      <td>PG-13</td>\n",
       "      <td>Wide</td>\n",
       "    </tr>\n",
       "  </tbody>\n",
       "</table>\n",
       "</div>"
      ],
      "text/plain": [
       "   index  production_year  movie_sequel         creative_type  \\\n",
       "0    832             2009             0               Factual   \n",
       "1    532             2007             0  Contemporary Fiction   \n",
       "2   1174             2009             0               Factual   \n",
       "3    751             2009             0  Contemporary Fiction   \n",
       "4    726             2010             0       Science Fiction   \n",
       "\n",
       "                      source production_method              genre language  \\\n",
       "0  Based on Real Life Events       Live Action        Documentary  English   \n",
       "1        Original Screenplay       Live Action              Drama  English   \n",
       "2  Based on Real Life Events       Live Action        Documentary  English   \n",
       "3        Original Screenplay       Live Action    Romantic Comedy  English   \n",
       "4        Original Screenplay       Live Action  Thriller/Suspense  English   \n",
       "\n",
       "                                 board_rating_reason  \\\n",
       "0                                  For some language   \n",
       "1         for comic sexual content and some violence   \n",
       "2                     International - to be excluded   \n",
       "3  for language and some suggestive material (rer...   \n",
       "4       for some disturbing sequences, and language.   \n",
       "\n",
       "  movie_board_rating_display_name movie_release_pattern_display_name  \n",
       "0                               R                            Limited  \n",
       "1                           PG-13                               Wide  \n",
       "2                       Not Rated                            Limited  \n",
       "3                              PG                               Wide  \n",
       "4                           PG-13                               Wide  "
      ]
     },
     "execution_count": 10,
     "metadata": {},
     "output_type": "execute_result"
    }
   ],
   "source": [
    "X_train.head()"
   ]
  },
  {
   "cell_type": "code",
   "execution_count": 11,
   "metadata": {},
   "outputs": [
    {
     "data": {
      "text/html": [
       "<div>\n",
       "<style scoped>\n",
       "    .dataframe tbody tr th:only-of-type {\n",
       "        vertical-align: middle;\n",
       "    }\n",
       "\n",
       "    .dataframe tbody tr th {\n",
       "        vertical-align: top;\n",
       "    }\n",
       "\n",
       "    .dataframe thead th {\n",
       "        text-align: right;\n",
       "    }\n",
       "</style>\n",
       "<table border=\"1\" class=\"dataframe\">\n",
       "  <thead>\n",
       "    <tr style=\"text-align: right;\">\n",
       "      <th></th>\n",
       "      <th>index</th>\n",
       "      <th>production_year</th>\n",
       "      <th>movie_sequel</th>\n",
       "      <th>creative_type</th>\n",
       "      <th>source</th>\n",
       "      <th>production_method</th>\n",
       "      <th>genre</th>\n",
       "      <th>language</th>\n",
       "      <th>board_rating_reason</th>\n",
       "      <th>movie_board_rating_display_name</th>\n",
       "      <th>movie_release_pattern_display_name</th>\n",
       "    </tr>\n",
       "  </thead>\n",
       "  <tbody>\n",
       "    <tr>\n",
       "      <th>0</th>\n",
       "      <td>700</td>\n",
       "      <td>2010</td>\n",
       "      <td>0</td>\n",
       "      <td>Fantasy</td>\n",
       "      <td>Original Screenplay</td>\n",
       "      <td>Live Action</td>\n",
       "      <td>Horror</td>\n",
       "      <td>English</td>\n",
       "      <td>for violence and terror including disturbing i...</td>\n",
       "      <td>R</td>\n",
       "      <td>Wide</td>\n",
       "    </tr>\n",
       "    <tr>\n",
       "      <th>1</th>\n",
       "      <td>359</td>\n",
       "      <td>2010</td>\n",
       "      <td>0</td>\n",
       "      <td>Contemporary Fiction</td>\n",
       "      <td>Spin-Off</td>\n",
       "      <td>Live Action</td>\n",
       "      <td>Comedy</td>\n",
       "      <td>English</td>\n",
       "      <td>for strong sexual content and drug use through...</td>\n",
       "      <td>R</td>\n",
       "      <td>Wide</td>\n",
       "    </tr>\n",
       "    <tr>\n",
       "      <th>2</th>\n",
       "      <td>666</td>\n",
       "      <td>2009</td>\n",
       "      <td>0</td>\n",
       "      <td>Fantasy</td>\n",
       "      <td>Original Screenplay</td>\n",
       "      <td>Live Action</td>\n",
       "      <td>Thriller/Suspense</td>\n",
       "      <td>English</td>\n",
       "      <td>For sexuality, bloody violence, language and b...</td>\n",
       "      <td>R</td>\n",
       "      <td>Wide</td>\n",
       "    </tr>\n",
       "    <tr>\n",
       "      <th>3</th>\n",
       "      <td>337</td>\n",
       "      <td>2011</td>\n",
       "      <td>0</td>\n",
       "      <td>Contemporary Fiction</td>\n",
       "      <td>Remake</td>\n",
       "      <td>Live Action</td>\n",
       "      <td>Action</td>\n",
       "      <td>English</td>\n",
       "      <td>for violence, pervasive language and brief dru...</td>\n",
       "      <td>R</td>\n",
       "      <td>Wide</td>\n",
       "    </tr>\n",
       "    <tr>\n",
       "      <th>4</th>\n",
       "      <td>543</td>\n",
       "      <td>2009</td>\n",
       "      <td>0</td>\n",
       "      <td>Factual</td>\n",
       "      <td>Based on Real Life Events</td>\n",
       "      <td>Live Action</td>\n",
       "      <td>Concert/Performance</td>\n",
       "      <td>English</td>\n",
       "      <td>General</td>\n",
       "      <td>G</td>\n",
       "      <td>Wide</td>\n",
       "    </tr>\n",
       "  </tbody>\n",
       "</table>\n",
       "</div>"
      ],
      "text/plain": [
       "   index  production_year  movie_sequel         creative_type  \\\n",
       "0    700             2010             0               Fantasy   \n",
       "1    359             2010             0  Contemporary Fiction   \n",
       "2    666             2009             0               Fantasy   \n",
       "3    337             2011             0  Contemporary Fiction   \n",
       "4    543             2009             0               Factual   \n",
       "\n",
       "                      source production_method                genre language  \\\n",
       "0        Original Screenplay       Live Action               Horror  English   \n",
       "1                   Spin-Off       Live Action               Comedy  English   \n",
       "2        Original Screenplay       Live Action    Thriller/Suspense  English   \n",
       "3                     Remake       Live Action               Action  English   \n",
       "4  Based on Real Life Events       Live Action  Concert/Performance  English   \n",
       "\n",
       "                                 board_rating_reason  \\\n",
       "0  for violence and terror including disturbing i...   \n",
       "1  for strong sexual content and drug use through...   \n",
       "2  For sexuality, bloody violence, language and b...   \n",
       "3  for violence, pervasive language and brief dru...   \n",
       "4                                            General   \n",
       "\n",
       "  movie_board_rating_display_name movie_release_pattern_display_name  \n",
       "0                               R                               Wide  \n",
       "1                               R                               Wide  \n",
       "2                               R                               Wide  \n",
       "3                               R                               Wide  \n",
       "4                               G                               Wide  "
      ]
     },
     "execution_count": 11,
     "metadata": {},
     "output_type": "execute_result"
    }
   ],
   "source": [
    "X_test.head()"
   ]
  },
  {
   "cell_type": "code",
   "execution_count": 12,
   "metadata": {},
   "outputs": [],
   "source": [
    "X_train_transformed = pd.concat([creative_type_cols, source_cols, \n",
    "                     production_method_cols, genre_cols, \n",
    "                     language_cols, rating_cols, release_pattern_display_name], axis=1)\n",
    "\n",
    "X_test_transformed = pd.concat([creative_type_cols_test, source_cols_test, production_method_cols_test,\n",
    "                    genre_cols_test, language_cols_test, rating_cols_test, release_pattern_display_name_test], axis=1)"
   ]
  },
  {
   "cell_type": "code",
   "execution_count": 13,
   "metadata": {},
   "outputs": [
    {
     "data": {
      "text/html": [
       "<div>\n",
       "<style scoped>\n",
       "    .dataframe tbody tr th:only-of-type {\n",
       "        vertical-align: middle;\n",
       "    }\n",
       "\n",
       "    .dataframe tbody tr th {\n",
       "        vertical-align: top;\n",
       "    }\n",
       "\n",
       "    .dataframe thead th {\n",
       "        text-align: right;\n",
       "    }\n",
       "</style>\n",
       "<table border=\"1\" class=\"dataframe\">\n",
       "  <thead>\n",
       "    <tr style=\"text-align: right;\">\n",
       "      <th></th>\n",
       "      <th>Contemporary Fiction</th>\n",
       "      <th>Dramatization</th>\n",
       "      <th>Factual</th>\n",
       "      <th>Fantasy</th>\n",
       "      <th>Historical Fiction</th>\n",
       "      <th>Kids Fiction</th>\n",
       "      <th>Multiple Creative Types</th>\n",
       "      <th>Science Fiction</th>\n",
       "      <th>Super Hero</th>\n",
       "      <th>Based on Comic/Graphic Novel</th>\n",
       "      <th>...</th>\n",
       "      <th>PG</th>\n",
       "      <th>PG-13</th>\n",
       "      <th>R</th>\n",
       "      <th>Exclusive</th>\n",
       "      <th>Expands Wide</th>\n",
       "      <th>IMAX</th>\n",
       "      <th>Limited</th>\n",
       "      <th>Oscar Qualifying Run</th>\n",
       "      <th>Special Engagement</th>\n",
       "      <th>Wide</th>\n",
       "    </tr>\n",
       "  </thead>\n",
       "  <tbody>\n",
       "    <tr>\n",
       "      <th>0</th>\n",
       "      <td>0</td>\n",
       "      <td>0</td>\n",
       "      <td>1</td>\n",
       "      <td>0</td>\n",
       "      <td>0</td>\n",
       "      <td>0</td>\n",
       "      <td>0</td>\n",
       "      <td>0</td>\n",
       "      <td>0</td>\n",
       "      <td>0</td>\n",
       "      <td>...</td>\n",
       "      <td>0</td>\n",
       "      <td>0</td>\n",
       "      <td>1</td>\n",
       "      <td>0</td>\n",
       "      <td>0</td>\n",
       "      <td>0</td>\n",
       "      <td>1</td>\n",
       "      <td>0</td>\n",
       "      <td>0</td>\n",
       "      <td>0</td>\n",
       "    </tr>\n",
       "    <tr>\n",
       "      <th>1</th>\n",
       "      <td>1</td>\n",
       "      <td>0</td>\n",
       "      <td>0</td>\n",
       "      <td>0</td>\n",
       "      <td>0</td>\n",
       "      <td>0</td>\n",
       "      <td>0</td>\n",
       "      <td>0</td>\n",
       "      <td>0</td>\n",
       "      <td>0</td>\n",
       "      <td>...</td>\n",
       "      <td>0</td>\n",
       "      <td>1</td>\n",
       "      <td>0</td>\n",
       "      <td>0</td>\n",
       "      <td>0</td>\n",
       "      <td>0</td>\n",
       "      <td>0</td>\n",
       "      <td>0</td>\n",
       "      <td>0</td>\n",
       "      <td>1</td>\n",
       "    </tr>\n",
       "    <tr>\n",
       "      <th>2</th>\n",
       "      <td>0</td>\n",
       "      <td>0</td>\n",
       "      <td>1</td>\n",
       "      <td>0</td>\n",
       "      <td>0</td>\n",
       "      <td>0</td>\n",
       "      <td>0</td>\n",
       "      <td>0</td>\n",
       "      <td>0</td>\n",
       "      <td>0</td>\n",
       "      <td>...</td>\n",
       "      <td>0</td>\n",
       "      <td>0</td>\n",
       "      <td>0</td>\n",
       "      <td>0</td>\n",
       "      <td>0</td>\n",
       "      <td>0</td>\n",
       "      <td>1</td>\n",
       "      <td>0</td>\n",
       "      <td>0</td>\n",
       "      <td>0</td>\n",
       "    </tr>\n",
       "    <tr>\n",
       "      <th>3</th>\n",
       "      <td>1</td>\n",
       "      <td>0</td>\n",
       "      <td>0</td>\n",
       "      <td>0</td>\n",
       "      <td>0</td>\n",
       "      <td>0</td>\n",
       "      <td>0</td>\n",
       "      <td>0</td>\n",
       "      <td>0</td>\n",
       "      <td>0</td>\n",
       "      <td>...</td>\n",
       "      <td>1</td>\n",
       "      <td>0</td>\n",
       "      <td>0</td>\n",
       "      <td>0</td>\n",
       "      <td>0</td>\n",
       "      <td>0</td>\n",
       "      <td>0</td>\n",
       "      <td>0</td>\n",
       "      <td>0</td>\n",
       "      <td>1</td>\n",
       "    </tr>\n",
       "    <tr>\n",
       "      <th>4</th>\n",
       "      <td>0</td>\n",
       "      <td>0</td>\n",
       "      <td>0</td>\n",
       "      <td>0</td>\n",
       "      <td>0</td>\n",
       "      <td>0</td>\n",
       "      <td>0</td>\n",
       "      <td>1</td>\n",
       "      <td>0</td>\n",
       "      <td>0</td>\n",
       "      <td>...</td>\n",
       "      <td>0</td>\n",
       "      <td>1</td>\n",
       "      <td>0</td>\n",
       "      <td>0</td>\n",
       "      <td>0</td>\n",
       "      <td>0</td>\n",
       "      <td>0</td>\n",
       "      <td>0</td>\n",
       "      <td>0</td>\n",
       "      <td>1</td>\n",
       "    </tr>\n",
       "  </tbody>\n",
       "</table>\n",
       "<p>5 rows × 72 columns</p>\n",
       "</div>"
      ],
      "text/plain": [
       "   Contemporary Fiction  Dramatization  Factual  Fantasy  Historical Fiction  \\\n",
       "0                     0              0        1        0                   0   \n",
       "1                     1              0        0        0                   0   \n",
       "2                     0              0        1        0                   0   \n",
       "3                     1              0        0        0                   0   \n",
       "4                     0              0        0        0                   0   \n",
       "\n",
       "   Kids Fiction  Multiple Creative Types  Science Fiction  Super Hero  \\\n",
       "0             0                        0                0           0   \n",
       "1             0                        0                0           0   \n",
       "2             0                        0                0           0   \n",
       "3             0                        0                0           0   \n",
       "4             0                        0                1           0   \n",
       "\n",
       "   Based on Comic/Graphic Novel  ...   PG  PG-13  R  Exclusive  Expands Wide  \\\n",
       "0                             0  ...    0      0  1          0             0   \n",
       "1                             0  ...    0      1  0          0             0   \n",
       "2                             0  ...    0      0  0          0             0   \n",
       "3                             0  ...    1      0  0          0             0   \n",
       "4                             0  ...    0      1  0          0             0   \n",
       "\n",
       "   IMAX  Limited  Oscar Qualifying Run  Special Engagement  Wide  \n",
       "0     0        1                     0                   0     0  \n",
       "1     0        0                     0                   0     1  \n",
       "2     0        1                     0                   0     0  \n",
       "3     0        0                     0                   0     1  \n",
       "4     0        0                     0                   0     1  \n",
       "\n",
       "[5 rows x 72 columns]"
      ]
     },
     "execution_count": 13,
     "metadata": {},
     "output_type": "execute_result"
    }
   ],
   "source": [
    "X_train_transformed.head()"
   ]
  },
  {
   "cell_type": "code",
   "execution_count": 14,
   "metadata": {},
   "outputs": [
    {
     "data": {
      "text/html": [
       "<div>\n",
       "<style scoped>\n",
       "    .dataframe tbody tr th:only-of-type {\n",
       "        vertical-align: middle;\n",
       "    }\n",
       "\n",
       "    .dataframe tbody tr th {\n",
       "        vertical-align: top;\n",
       "    }\n",
       "\n",
       "    .dataframe thead th {\n",
       "        text-align: right;\n",
       "    }\n",
       "</style>\n",
       "<table border=\"1\" class=\"dataframe\">\n",
       "  <thead>\n",
       "    <tr style=\"text-align: right;\">\n",
       "      <th></th>\n",
       "      <th>Contemporary Fiction</th>\n",
       "      <th>Dramatization</th>\n",
       "      <th>Factual</th>\n",
       "      <th>Fantasy</th>\n",
       "      <th>Historical Fiction</th>\n",
       "      <th>Kids Fiction</th>\n",
       "      <th>Science Fiction</th>\n",
       "      <th>Super Hero</th>\n",
       "      <th>Based on Comic/Graphic Novel</th>\n",
       "      <th>Based on Factual Book/Article</th>\n",
       "      <th>...</th>\n",
       "      <th>NC-17</th>\n",
       "      <th>Not Rated</th>\n",
       "      <th>PG</th>\n",
       "      <th>PG-13</th>\n",
       "      <th>R</th>\n",
       "      <th>Exclusive</th>\n",
       "      <th>Expands Wide</th>\n",
       "      <th>IMAX</th>\n",
       "      <th>Limited</th>\n",
       "      <th>Wide</th>\n",
       "    </tr>\n",
       "  </thead>\n",
       "  <tbody>\n",
       "    <tr>\n",
       "      <th>0</th>\n",
       "      <td>0</td>\n",
       "      <td>0</td>\n",
       "      <td>0</td>\n",
       "      <td>1</td>\n",
       "      <td>0</td>\n",
       "      <td>0</td>\n",
       "      <td>0</td>\n",
       "      <td>0</td>\n",
       "      <td>0</td>\n",
       "      <td>0</td>\n",
       "      <td>...</td>\n",
       "      <td>0</td>\n",
       "      <td>0</td>\n",
       "      <td>0</td>\n",
       "      <td>0</td>\n",
       "      <td>1</td>\n",
       "      <td>0</td>\n",
       "      <td>0</td>\n",
       "      <td>0</td>\n",
       "      <td>0</td>\n",
       "      <td>1</td>\n",
       "    </tr>\n",
       "    <tr>\n",
       "      <th>1</th>\n",
       "      <td>1</td>\n",
       "      <td>0</td>\n",
       "      <td>0</td>\n",
       "      <td>0</td>\n",
       "      <td>0</td>\n",
       "      <td>0</td>\n",
       "      <td>0</td>\n",
       "      <td>0</td>\n",
       "      <td>0</td>\n",
       "      <td>0</td>\n",
       "      <td>...</td>\n",
       "      <td>0</td>\n",
       "      <td>0</td>\n",
       "      <td>0</td>\n",
       "      <td>0</td>\n",
       "      <td>1</td>\n",
       "      <td>0</td>\n",
       "      <td>0</td>\n",
       "      <td>0</td>\n",
       "      <td>0</td>\n",
       "      <td>1</td>\n",
       "    </tr>\n",
       "    <tr>\n",
       "      <th>2</th>\n",
       "      <td>0</td>\n",
       "      <td>0</td>\n",
       "      <td>0</td>\n",
       "      <td>1</td>\n",
       "      <td>0</td>\n",
       "      <td>0</td>\n",
       "      <td>0</td>\n",
       "      <td>0</td>\n",
       "      <td>0</td>\n",
       "      <td>0</td>\n",
       "      <td>...</td>\n",
       "      <td>0</td>\n",
       "      <td>0</td>\n",
       "      <td>0</td>\n",
       "      <td>0</td>\n",
       "      <td>1</td>\n",
       "      <td>0</td>\n",
       "      <td>0</td>\n",
       "      <td>0</td>\n",
       "      <td>0</td>\n",
       "      <td>1</td>\n",
       "    </tr>\n",
       "    <tr>\n",
       "      <th>3</th>\n",
       "      <td>1</td>\n",
       "      <td>0</td>\n",
       "      <td>0</td>\n",
       "      <td>0</td>\n",
       "      <td>0</td>\n",
       "      <td>0</td>\n",
       "      <td>0</td>\n",
       "      <td>0</td>\n",
       "      <td>0</td>\n",
       "      <td>0</td>\n",
       "      <td>...</td>\n",
       "      <td>0</td>\n",
       "      <td>0</td>\n",
       "      <td>0</td>\n",
       "      <td>0</td>\n",
       "      <td>1</td>\n",
       "      <td>0</td>\n",
       "      <td>0</td>\n",
       "      <td>0</td>\n",
       "      <td>0</td>\n",
       "      <td>1</td>\n",
       "    </tr>\n",
       "    <tr>\n",
       "      <th>4</th>\n",
       "      <td>0</td>\n",
       "      <td>0</td>\n",
       "      <td>1</td>\n",
       "      <td>0</td>\n",
       "      <td>0</td>\n",
       "      <td>0</td>\n",
       "      <td>0</td>\n",
       "      <td>0</td>\n",
       "      <td>0</td>\n",
       "      <td>0</td>\n",
       "      <td>...</td>\n",
       "      <td>0</td>\n",
       "      <td>0</td>\n",
       "      <td>0</td>\n",
       "      <td>0</td>\n",
       "      <td>0</td>\n",
       "      <td>0</td>\n",
       "      <td>0</td>\n",
       "      <td>0</td>\n",
       "      <td>0</td>\n",
       "      <td>1</td>\n",
       "    </tr>\n",
       "  </tbody>\n",
       "</table>\n",
       "<p>5 rows × 51 columns</p>\n",
       "</div>"
      ],
      "text/plain": [
       "   Contemporary Fiction  Dramatization  Factual  Fantasy  Historical Fiction  \\\n",
       "0                     0              0        0        1                   0   \n",
       "1                     1              0        0        0                   0   \n",
       "2                     0              0        0        1                   0   \n",
       "3                     1              0        0        0                   0   \n",
       "4                     0              0        1        0                   0   \n",
       "\n",
       "   Kids Fiction  Science Fiction  Super Hero  Based on Comic/Graphic Novel  \\\n",
       "0             0                0           0                             0   \n",
       "1             0                0           0                             0   \n",
       "2             0                0           0                             0   \n",
       "3             0                0           0                             0   \n",
       "4             0                0           0                             0   \n",
       "\n",
       "   Based on Factual Book/Article  ...   NC-17  Not Rated  PG  PG-13  R  \\\n",
       "0                              0  ...       0          0   0      0  1   \n",
       "1                              0  ...       0          0   0      0  1   \n",
       "2                              0  ...       0          0   0      0  1   \n",
       "3                              0  ...       0          0   0      0  1   \n",
       "4                              0  ...       0          0   0      0  0   \n",
       "\n",
       "   Exclusive  Expands Wide  IMAX  Limited  Wide  \n",
       "0          0             0     0        0     1  \n",
       "1          0             0     0        0     1  \n",
       "2          0             0     0        0     1  \n",
       "3          0             0     0        0     1  \n",
       "4          0             0     0        0     1  \n",
       "\n",
       "[5 rows x 51 columns]"
      ]
     },
     "execution_count": 14,
     "metadata": {},
     "output_type": "execute_result"
    }
   ],
   "source": [
    "X_test_transformed.head()"
   ]
  },
  {
   "cell_type": "markdown",
   "metadata": {},
   "source": [
    "Certain levels in the test have to be ignored -  because we hadn't seen them in train data. So lets take all the columns of train data. Check if they're present in test data. \n",
    "\n",
    "If a column in X_train is not present in the train sample, we add it with all zero values to test."
   ]
  },
  {
   "cell_type": "code",
   "execution_count": 15,
   "metadata": {},
   "outputs": [],
   "source": [
    "train_features = X_train_transformed.columns\n",
    "test_features = X_test_transformed.columns\n",
    "\n",
    "# features in train which are not present in test\n",
    "features_ = [feature for feature in train_features if feature not in test_features]"
   ]
  },
  {
   "cell_type": "code",
   "execution_count": 16,
   "metadata": {},
   "outputs": [],
   "source": [
    "# Setting the one hot encoding of the absent feature to  zero in test data\n",
    "for feature in features_:\n",
    "    X_test_transformed[feature] = 0\n",
    "    \n",
    "# New levels which have come for columns in test have to be removed now (to avoid the not seen error) - \n",
    "# so, taking only the columns which were present in train data\n",
    "\n",
    "X_test_transformed = X_test_transformed[train_features]"
   ]
  },
  {
   "cell_type": "markdown",
   "metadata": {},
   "source": [
    "__Lets start with a baseline classification model__"
   ]
  },
  {
   "cell_type": "markdown",
   "metadata": {},
   "source": [
    "## Multiclass Logistic Regression "
   ]
  },
  {
   "cell_type": "code",
   "execution_count": 17,
   "metadata": {},
   "outputs": [
    {
     "data": {
      "text/plain": [
       "LogisticRegression(C=1.0, class_weight=None, dual=False, fit_intercept=True,\n",
       "          intercept_scaling=1, max_iter=100, multi_class='ovr',\n",
       "          n_jobs=None, penalty='l2', random_state=None, solver='warn',\n",
       "          tol=0.0001, verbose=0, warm_start=False)"
      ]
     },
     "execution_count": 17,
     "metadata": {},
     "output_type": "execute_result"
    }
   ],
   "source": [
    "lr_clf = LogisticRegression(multi_class=\"ovr\")\n",
    "lr_clf.fit(X_train_transformed, y_train)"
   ]
  },
  {
   "cell_type": "code",
   "execution_count": 18,
   "metadata": {},
   "outputs": [],
   "source": [
    "y_pred = lr_clf.predict(X_test_transformed)"
   ]
  },
  {
   "cell_type": "code",
   "execution_count": 20,
   "metadata": {},
   "outputs": [
    {
     "name": "stdout",
     "output_type": "stream",
     "text": [
      "Train Accuracy:  0.352\n",
      "Train Bingo:  0.334\n",
      "Train Oneaway:  0.6909\n",
      "==================================\n",
      "Test Accuracy:  0.256\n",
      "Test bingo:  0.211\n",
      "Test Oneaway:  0.7167\n"
     ]
    }
   ],
   "source": [
    "# Using APHR Bingo as the classification accuracy metric, let's evaluate the classifier\n",
    "\n",
    "y_pred_train_lr = lr_clf.predict(X_train_transformed)\n",
    "train_acc = metrics.accuracy(y_train, y_pred_train_lr)\n",
    "count_bingo, aphr_bingo, percent_bingo = metrics.aphr_bingo(y_train, y_pred_train_lr)\n",
    "train_aphr_oneaway = metrics.aphr_oneaway(y_train, y_pred_train_lr)\n",
    "print(\"Train Accuracy: \", train_acc)\n",
    "print(\"Train Bingo: \", percent_bingo)\n",
    "print(\"Train Oneaway: \", train_aphr_oneaway)\n",
    "print(\"==================================\")\n",
    "\n",
    "y_pred_lr = lr_clf.predict(X_test_transformed)\n",
    "test_acc = metrics.accuracy(y_test, y_pred_lr)\n",
    "count_bingo, aphr_bingo, percent_bingo = metrics.aphr_bingo(y_test, y_pred_lr)\n",
    "test_aphr_oneaway = metrics.aphr_oneaway(y_test, y_pred_lr)\n",
    "\n",
    "print(\"Test Accuracy: \", test_acc)\n",
    "print(\"Test bingo: \", percent_bingo)\n",
    "print(\"Test Oneaway: \", test_aphr_oneaway)"
   ]
  },
  {
   "cell_type": "markdown",
   "metadata": {},
   "source": [
    "Let us vectorize the text field and combine these with the other features as Sparse Matrices"
   ]
  },
  {
   "cell_type": "code",
   "execution_count": 21,
   "metadata": {},
   "outputs": [],
   "source": [
    "vectorizer = TfidfVectorizer()\n",
    "\n",
    "# board rating train vectorized\n",
    "rating_vec = vectorizer.fit_transform(X_train[\"board_rating_reason\"])\n",
    "\n",
    "text_feature_cols = vectorizer.vocabulary_\n",
    "rev_dictionary = {v:k for k,v in vectorizer.vocabulary_.items()}\n",
    "cols_text_features = [v for k,v in rev_dictionary.items()]\n",
    "X_train_transformed2 = sp.hstack([X_train_transformed, rating_vec])\n",
    "\n",
    "\n",
    "# vectorizing test data\n",
    "rating_vec_test = vectorizer.transform(X_test[\"board_rating_reason\"])\n",
    "X_test_transformed2 = sp.hstack([X_test_transformed, rating_vec_test])"
   ]
  },
  {
   "cell_type": "code",
   "execution_count": 22,
   "metadata": {},
   "outputs": [
    {
     "data": {
      "text/plain": [
       "LogisticRegression(C=0.7, class_weight=None, dual=False, fit_intercept=True,\n",
       "          intercept_scaling=1, max_iter=100, multi_class='ovr',\n",
       "          n_jobs=None, penalty='l2', random_state=None, solver='warn',\n",
       "          tol=0.0001, verbose=0, warm_start=False)"
      ]
     },
     "execution_count": 22,
     "metadata": {},
     "output_type": "execute_result"
    }
   ],
   "source": [
    "lr_clf = LogisticRegression(multi_class=\"ovr\", C=0.7)\n",
    "lr_clf.fit(X_train_transformed2, y_train)"
   ]
  },
  {
   "cell_type": "code",
   "execution_count": 23,
   "metadata": {},
   "outputs": [
    {
     "name": "stdout",
     "output_type": "stream",
     "text": [
      "Train Accuracy:  0.452\n",
      "Train Bingo:  0.424\n",
      "Train Oneaway:  0.7165\n",
      "==================================\n",
      "Test Accuracy:  0.261\n",
      "Test Bingo:  0.229\n",
      "Test Oneaway:  0.7222\n"
     ]
    }
   ],
   "source": [
    "y_pred_train_lr2 = lr_clf.predict(X_train_transformed2)\n",
    "train_acc = metrics.accuracy(y_train, y_pred_train_lr2)\n",
    "count_bingo, aphr_bingo, percent_bingo = metrics.aphr_bingo(y_train, y_pred_train_lr2)\n",
    "train_aphr_oneaway = metrics.aphr_oneaway(y_train, y_pred_train_lr2)\n",
    "print(\"Train Accuracy: \", train_acc)\n",
    "print(\"Train Bingo: \", percent_bingo)\n",
    "print(\"Train Oneaway: \", train_aphr_oneaway)\n",
    "print(\"==================================\")\n",
    "\n",
    "\n",
    "y_pred_lr2 = lr_clf.predict(X_test_transformed2)\n",
    "test_acc = metrics.accuracy(y_test, y_pred_lr2)\n",
    "count_bingo, aphr_bingo, percent_bingo = metrics.aphr_bingo(y_test, y_pred_lr2)\n",
    "test_aphr_oneaway = metrics.aphr_oneaway(y_test, y_pred_lr2)\n",
    "print(\"Test Accuracy: \", test_acc)\n",
    "print(\"Test Bingo: \", percent_bingo)\n",
    "print(\"Test Oneaway: \", test_aphr_oneaway)"
   ]
  },
  {
   "cell_type": "markdown",
   "metadata": {},
   "source": [
    "_There is a lot of bias error, even with regularization._"
   ]
  },
  {
   "cell_type": "markdown",
   "metadata": {},
   "source": [
    "__The Bingo Percentage seems to have increased after including text features.\n",
    "Now let's try other classifiers.__"
   ]
  },
  {
   "cell_type": "markdown",
   "metadata": {},
   "source": [
    "## SVM"
   ]
  },
  {
   "cell_type": "code",
   "execution_count": 24,
   "metadata": {},
   "outputs": [
    {
     "data": {
      "text/plain": [
       "SVC(C=0.5, cache_size=200, class_weight=None, coef0=0.0,\n",
       "  decision_function_shape='ovr', degree=3, gamma='auto_deprecated',\n",
       "  kernel='linear', max_iter=-1, probability=False, random_state=None,\n",
       "  shrinking=True, tol=0.001, verbose=False)"
      ]
     },
     "execution_count": 24,
     "metadata": {},
     "output_type": "execute_result"
    }
   ],
   "source": [
    "# linear kernel seems to give the best bingo percentage\n",
    "\n",
    "clf_svm = SVC(C=0.5, kernel='linear')\n",
    "clf_svm.fit(X_train_transformed, y_train) "
   ]
  },
  {
   "cell_type": "code",
   "execution_count": 26,
   "metadata": {},
   "outputs": [
    {
     "name": "stdout",
     "output_type": "stream",
     "text": [
      "Train Accuracy:  0.343\n",
      "Train Bingo:  0.302\n",
      "Train Oneaway:  0.6781\n",
      "==================================\n",
      "Test Accuracy:  0.278\n",
      "Test Bingo:  0.249\n",
      "Test Oneaway:  0.7278\n"
     ]
    }
   ],
   "source": [
    "y_pred_train_svm = clf_svm.predict(X_train_transformed)\n",
    "train_acc = metrics.accuracy(y_train, y_pred_train_svm)\n",
    "count_bingo, aphr_bingo, percent_bingo = metrics.aphr_bingo(y_train, y_pred_train_svm)\n",
    "train_aphr_oneaway = metrics.aphr_oneaway(y_train, y_pred_train_svm)\n",
    "print(\"Train Accuracy: \", train_acc)\n",
    "print(\"Train Bingo: \", percent_bingo)\n",
    "print(\"Train Oneaway: \", train_aphr_oneaway)\n",
    "print(\"==================================\")\n",
    "\n",
    "\n",
    "y_pred_svm = clf_svm.predict(X_test_transformed)\n",
    "test_acc = metrics.accuracy(y_test, y_pred_svm)\n",
    "count_bingo, aphr_bingo, percent_bingo = metrics.aphr_bingo(y_test, y_pred_svm)\n",
    "test_aphr_oneaway = metrics.aphr_oneaway(y_test, y_pred_svm)\n",
    "print(\"Test Accuracy: \", test_acc)\n",
    "print(\"Test Bingo: \", percent_bingo)\n",
    "print(\"Test Oneaway: \", test_aphr_oneaway)"
   ]
  },
  {
   "cell_type": "markdown",
   "metadata": {},
   "source": [
    "__Note: The optimizations on the hyperparameters C and kernel has been made looking at how much they optimize the \n",
    "oneaway score.__"
   ]
  },
  {
   "cell_type": "markdown",
   "metadata": {},
   "source": [
    "### SVM with text features included"
   ]
  },
  {
   "cell_type": "code",
   "execution_count": 27,
   "metadata": {},
   "outputs": [
    {
     "name": "stdout",
     "output_type": "stream",
     "text": [
      "Train Accuracy:  0.522\n",
      "Train Bingo:  0.525\n",
      "Train Oneaway:  0.7569\n",
      "==================================\n",
      "Test Accuracy:  0.283\n",
      "Test Bingo:  0.263\n",
      "Test Oneaway:  0.7444\n"
     ]
    }
   ],
   "source": [
    "clf_svm = SVC(C=1, kernel='linear')\n",
    "clf_svm.fit(X_train_transformed2, y_train) \n",
    "\n",
    "y_pred_train_svm2 = clf_svm.predict(X_train_transformed2)\n",
    "train_acc = metrics.accuracy(y_train, y_pred_train_svm2)\n",
    "count_bingo, aphr_bingo, percent_bingo = metrics.aphr_bingo(y_train, y_pred_train_svm2)\n",
    "train_aphr_oneaway = metrics.aphr_oneaway(y_train, y_pred_train_svm2)\n",
    "print(\"Train Accuracy: \", train_acc)\n",
    "print(\"Train Bingo: \", percent_bingo)\n",
    "print(\"Train Oneaway: \", train_aphr_oneaway)\n",
    "print(\"==================================\")\n",
    "\n",
    "\n",
    "y_pred_svm2 = clf_svm.predict(X_test_transformed2)\n",
    "test_acc = metrics.accuracy(y_test, y_pred_svm2)\n",
    "count_bingo, aphr_bingo, percent_bingo = metrics.aphr_bingo(y_test, y_pred_svm2)\n",
    "test_aphr_oneaway = metrics.aphr_oneaway(y_test, y_pred_svm2)\n",
    "print(\"Test Accuracy: \", test_acc)\n",
    "print(\"Test Bingo: \", percent_bingo)\n",
    "print(\"Test Oneaway: \", test_aphr_oneaway)"
   ]
  },
  {
   "cell_type": "markdown",
   "metadata": {},
   "source": [
    "Let's try an ensemble model\n",
    "\n",
    "## Random Forests"
   ]
  },
  {
   "cell_type": "code",
   "execution_count": 28,
   "metadata": {},
   "outputs": [
    {
     "data": {
      "text/plain": [
       "RandomForestClassifier(bootstrap=True, class_weight=None, criterion='gini',\n",
       "            max_depth=8, max_features='auto', max_leaf_nodes=None,\n",
       "            min_impurity_decrease=0.0, min_impurity_split=None,\n",
       "            min_samples_leaf=1, min_samples_split=2,\n",
       "            min_weight_fraction_leaf=0.0, n_estimators=30, n_jobs=None,\n",
       "            oob_score=False, random_state=None, verbose=0,\n",
       "            warm_start=False)"
      ]
     },
     "execution_count": 28,
     "metadata": {},
     "output_type": "execute_result"
    }
   ],
   "source": [
    "clf_rf = RandomForestClassifier(n_estimators=30, max_depth=8)\n",
    "clf_rf.fit(X_train_transformed, y_train)"
   ]
  },
  {
   "cell_type": "code",
   "execution_count": 29,
   "metadata": {},
   "outputs": [
    {
     "name": "stdout",
     "output_type": "stream",
     "text": [
      "Train Accuracy:  0.494\n",
      "Train Bingo:  0.465\n",
      "Train Oneaway:  0.7382\n",
      "==================================\n",
      "Test Accuracy:  0.278\n",
      "Test Bingo:  0.208\n",
      "Test Oneaway:  0.7222\n"
     ]
    }
   ],
   "source": [
    "y_pred_train_rf = clf_rf.predict(X_train_transformed)\n",
    "train_acc = metrics.accuracy(y_train, y_pred_train_rf)\n",
    "count_bingo, aphr_bingo, percent_bingo = metrics.aphr_bingo(y_train, y_pred_train_rf)\n",
    "train_aphr_oneaway = metrics.aphr_oneaway(y_train, y_pred_train_rf)\n",
    "print(\"Train Accuracy: \", train_acc)\n",
    "print(\"Train Bingo: \", percent_bingo)\n",
    "print(\"Train Oneaway: \", train_aphr_oneaway)\n",
    "print(\"==================================\")\n",
    "\n",
    "\n",
    "y_pred_rf = clf_rf.predict(X_test_transformed)\n",
    "test_acc = metrics.accuracy(y_test, y_pred_rf)\n",
    "count_bingo, aphr_bingo, percent_bingo = metrics.aphr_bingo(y_test, y_pred_rf)\n",
    "test_aphr_oneaway = metrics.aphr_oneaway(y_test, y_pred_rf)\n",
    "print(\"Test Accuracy: \", test_acc)\n",
    "print(\"Test Bingo: \", percent_bingo)\n",
    "print(\"Test Oneaway: \", test_aphr_oneaway)"
   ]
  },
  {
   "cell_type": "code",
   "execution_count": 30,
   "metadata": {},
   "outputs": [
    {
     "name": "stdout",
     "output_type": "stream",
     "text": [
      "Train Accuracy:  0.522\n",
      "Train Bingo:  0.525\n",
      "Train Oneaway:  0.7569\n",
      "==================================\n",
      "Test Accuracy:  0.267\n",
      "Test Bingo:  0.201\n",
      "Test Oneaway:  0.7556\n"
     ]
    }
   ],
   "source": [
    "clf_rf = RandomForestClassifier(n_estimators=35, max_depth=6)\n",
    "clf_rf.fit(X_train_transformed2, y_train) \n",
    "\n",
    "y_pred_train_rf2 = clf_svm.predict(X_train_transformed2)\n",
    "train_acc = metrics.accuracy(y_train, y_pred_train_rf2)\n",
    "count_bingo, aphr_bingo, percent_bingo = metrics.aphr_bingo(y_train, y_pred_train_rf2)\n",
    "train_aphr_oneaway = metrics.aphr_oneaway(y_train, y_pred_train_rf2)\n",
    "print(\"Train Accuracy: \", train_acc)\n",
    "print(\"Train Bingo: \", percent_bingo)\n",
    "print(\"Train Oneaway: \", train_aphr_oneaway)\n",
    "print(\"==================================\")\n",
    "\n",
    "\n",
    "y_pred_rf2 = clf_rf.predict(X_test_transformed2)\n",
    "test_acc = metrics.accuracy(y_test, y_pred_rf2)\n",
    "count_bingo, aphr_bingo, percent_bingo = metrics.aphr_bingo(y_test, y_pred_rf2)\n",
    "test_aphr_oneaway = metrics.aphr_oneaway(y_test, y_pred_rf2)\n",
    "print(\"Test Accuracy: \", test_acc)\n",
    "print(\"Test Bingo: \", percent_bingo)\n",
    "print(\"Test Oneaway: \", test_aphr_oneaway)"
   ]
  },
  {
   "cell_type": "markdown",
   "metadata": {},
   "source": [
    "__The max_depth and n_estimator parameters have been tuned to optimize the oneaway score__"
   ]
  },
  {
   "cell_type": "markdown",
   "metadata": {},
   "source": [
    "## Boosted Trees: XGBoost"
   ]
  },
  {
   "cell_type": "code",
   "execution_count": 31,
   "metadata": {},
   "outputs": [
    {
     "name": "stdout",
     "output_type": "stream",
     "text": [
      "Train Accuracy:  0.411\n",
      "Train Bingo:  0.409\n",
      "Train Oneaway:  0.7156\n",
      "==================================\n",
      "Test Accuracy:  0.261\n",
      "Test Bingo:  0.254\n",
      "Test Oneaway:  0.7333\n"
     ]
    }
   ],
   "source": [
    "clf_xgb = xgb.XGBClassifier(max_depth=3, nthread=-1)\n",
    "clf_xgb.fit(X_train_transformed, y_train)\n",
    "\n",
    "\n",
    "y_pred_train_xgb = clf_xgb.predict(X_train_transformed)\n",
    "train_acc = metrics.accuracy(y_train, y_pred_train_xgb)\n",
    "count_bingo, aphr_bingo, percent_bingo = metrics.aphr_bingo(y_train, y_pred_train_xgb)\n",
    "train_aphr_oneaway = metrics.aphr_oneaway(y_train, y_pred_train_xgb)\n",
    "print(\"Train Accuracy: \", train_acc)\n",
    "print(\"Train Bingo: \", percent_bingo)\n",
    "print(\"Train Oneaway: \", train_aphr_oneaway)\n",
    "print(\"==================================\")\n",
    "\n",
    "\n",
    "y_pred_xgb = clf_xgb.predict(X_test_transformed)\n",
    "test_acc = metrics.accuracy(y_test, y_pred_xgb)\n",
    "count_bingo, aphr_bingo, percent_bingo = metrics.aphr_bingo(y_test, y_pred_xgb)\n",
    "test_aphr_oneaway = metrics.aphr_oneaway(y_test, y_pred_xgb)\n",
    "print(\"Test Accuracy: \", test_acc)\n",
    "print(\"Test Bingo: \", percent_bingo)\n",
    "print(\"Test Oneaway: \", test_aphr_oneaway)"
   ]
  },
  {
   "cell_type": "code",
   "execution_count": 32,
   "metadata": {},
   "outputs": [
    {
     "name": "stdout",
     "output_type": "stream",
     "text": [
      "Train Accuracy:  0.871\n",
      "Train Bingo:  0.894\n",
      "Train Oneaway:  0.939\n",
      "==================================\n",
      "Test Accuracy:  0.272\n",
      "Test Bingo:  0.252\n",
      "Test Oneaway:  0.7111\n"
     ]
    }
   ],
   "source": [
    "clf_xgb = xgb.XGBClassifier(max_depth=5, nthread=-1)\n",
    "clf_xgb.fit(X_train_transformed2, y_train)\n",
    "\n",
    "\n",
    "y_pred_train_xgb2 = clf_xgb.predict(X_train_transformed2)\n",
    "train_acc = metrics.accuracy(y_train, y_pred_train_xgb2)\n",
    "count_bingo, aphr_bingo, percent_bingo = metrics.aphr_bingo(y_train, y_pred_train_xgb2)\n",
    "train_aphr_oneaway = metrics.aphr_oneaway(y_train, y_pred_train_xgb2)\n",
    "print(\"Train Accuracy: \", train_acc)\n",
    "print(\"Train Bingo: \", percent_bingo)\n",
    "print(\"Train Oneaway: \", train_aphr_oneaway)\n",
    "print(\"==================================\")\n",
    "\n",
    "\n",
    "y_pred_xgb2 = clf_xgb.predict(X_test_transformed2)\n",
    "test_acc = metrics.accuracy(y_test, y_pred_xgb2)\n",
    "count_bingo, aphr_bingo, percent_bingo = metrics.aphr_bingo(y_test, y_pred_xgb2)\n",
    "test_aphr_oneaway = metrics.aphr_oneaway(y_test, y_pred_xgb2)\n",
    "print(\"Test Accuracy: \", test_acc)\n",
    "print(\"Test Bingo: \", percent_bingo)\n",
    "print(\"Test Oneaway: \", test_aphr_oneaway)"
   ]
  },
  {
   "cell_type": "markdown",
   "metadata": {},
   "source": [
    "__The max_depth parameter is tuned to optimize the oneaway scores__"
   ]
  },
  {
   "cell_type": "markdown",
   "metadata": {},
   "source": [
    "## Fusion"
   ]
  },
  {
   "cell_type": "markdown",
   "metadata": {},
   "source": [
    "Let's build a classifier that uses voting of classification choices from the classifiers above."
   ]
  },
  {
   "cell_type": "code",
   "execution_count": 44,
   "metadata": {},
   "outputs": [],
   "source": [
    "# construct a dataframe of all the test data predictions\n",
    "pred_fusion = pd.concat([pd.Series(list(y_pred_lr2), name=\"lr\"), \n",
    "                         pd.Series(list(y_pred_svm2), name=\"svm\"), \n",
    "                         pd.Series(list(y_pred_rf2), name=\"rf\"), \n",
    "                         pd.Series(list(y_pred_xgb2), name=\"xgb\")], axis=1)"
   ]
  },
  {
   "cell_type": "code",
   "execution_count": 62,
   "metadata": {},
   "outputs": [
    {
     "data": {
      "text/html": [
       "<div>\n",
       "<style scoped>\n",
       "    .dataframe tbody tr th:only-of-type {\n",
       "        vertical-align: middle;\n",
       "    }\n",
       "\n",
       "    .dataframe tbody tr th {\n",
       "        vertical-align: top;\n",
       "    }\n",
       "\n",
       "    .dataframe thead th {\n",
       "        text-align: right;\n",
       "    }\n",
       "</style>\n",
       "<table border=\"1\" class=\"dataframe\">\n",
       "  <thead>\n",
       "    <tr style=\"text-align: right;\">\n",
       "      <th></th>\n",
       "      <th>lr</th>\n",
       "      <th>svm</th>\n",
       "      <th>rf</th>\n",
       "      <th>xgb</th>\n",
       "      <th>prediction</th>\n",
       "    </tr>\n",
       "  </thead>\n",
       "  <tbody>\n",
       "    <tr>\n",
       "      <th>0</th>\n",
       "      <td>4</td>\n",
       "      <td>4</td>\n",
       "      <td>4</td>\n",
       "      <td>4</td>\n",
       "      <td>4</td>\n",
       "    </tr>\n",
       "    <tr>\n",
       "      <th>1</th>\n",
       "      <td>2</td>\n",
       "      <td>2</td>\n",
       "      <td>3</td>\n",
       "      <td>3</td>\n",
       "      <td>3</td>\n",
       "    </tr>\n",
       "    <tr>\n",
       "      <th>2</th>\n",
       "      <td>4</td>\n",
       "      <td>4</td>\n",
       "      <td>4</td>\n",
       "      <td>4</td>\n",
       "      <td>4</td>\n",
       "    </tr>\n",
       "    <tr>\n",
       "      <th>3</th>\n",
       "      <td>3</td>\n",
       "      <td>3</td>\n",
       "      <td>3</td>\n",
       "      <td>3</td>\n",
       "      <td>3</td>\n",
       "    </tr>\n",
       "    <tr>\n",
       "      <th>4</th>\n",
       "      <td>4</td>\n",
       "      <td>4</td>\n",
       "      <td>4</td>\n",
       "      <td>4</td>\n",
       "      <td>4</td>\n",
       "    </tr>\n",
       "    <tr>\n",
       "      <th>5</th>\n",
       "      <td>1</td>\n",
       "      <td>1</td>\n",
       "      <td>1</td>\n",
       "      <td>1</td>\n",
       "      <td>1</td>\n",
       "    </tr>\n",
       "    <tr>\n",
       "      <th>6</th>\n",
       "      <td>4</td>\n",
       "      <td>2</td>\n",
       "      <td>4</td>\n",
       "      <td>5</td>\n",
       "      <td>4</td>\n",
       "    </tr>\n",
       "    <tr>\n",
       "      <th>7</th>\n",
       "      <td>3</td>\n",
       "      <td>3</td>\n",
       "      <td>3</td>\n",
       "      <td>3</td>\n",
       "      <td>3</td>\n",
       "    </tr>\n",
       "    <tr>\n",
       "      <th>8</th>\n",
       "      <td>3</td>\n",
       "      <td>3</td>\n",
       "      <td>3</td>\n",
       "      <td>4</td>\n",
       "      <td>3</td>\n",
       "    </tr>\n",
       "    <tr>\n",
       "      <th>9</th>\n",
       "      <td>3</td>\n",
       "      <td>2</td>\n",
       "      <td>3</td>\n",
       "      <td>2</td>\n",
       "      <td>3</td>\n",
       "    </tr>\n",
       "  </tbody>\n",
       "</table>\n",
       "</div>"
      ],
      "text/plain": [
       "   lr  svm  rf  xgb  prediction\n",
       "0   4    4   4    4           4\n",
       "1   2    2   3    3           3\n",
       "2   4    4   4    4           4\n",
       "3   3    3   3    3           3\n",
       "4   4    4   4    4           4\n",
       "5   1    1   1    1           1\n",
       "6   4    2   4    5           4\n",
       "7   3    3   3    3           3\n",
       "8   3    3   3    4           3\n",
       "9   3    2   3    2           3"
      ]
     },
     "execution_count": 62,
     "metadata": {},
     "output_type": "execute_result"
    }
   ],
   "source": [
    "# Pick the class which has been voted the maximum count - otherwise pick the one which Random Forest chose \n",
    "# (since RF had maximum one away score)\n",
    "\n",
    "def vote(candidates):\n",
    "    # default vote to Random Forest candidate\n",
    "    default_vote = candidates[2]\n",
    "    \n",
    "    most_common = Counter(candidates).most_common()\n",
    "    if(len(most_common) == 1):\n",
    "        default_vote = most_common[0][0]\n",
    "    \n",
    "    return default_vote\n",
    "    \n",
    "pred_fusion[\"prediction\"] = pred_fusion.apply(lambda row: vote([row[\"lr\"], row[\"svm\"], row[\"rf\"], row[\"xgb\"]]), axis=1)\n",
    "\n",
    "pred_fusion.head(10)"
   ]
  },
  {
   "cell_type": "markdown",
   "metadata": {},
   "source": [
    "__Let's see if this improves the one away score__"
   ]
  },
  {
   "cell_type": "code",
   "execution_count": 63,
   "metadata": {},
   "outputs": [
    {
     "name": "stdout",
     "output_type": "stream",
     "text": [
      "Test Accuracy:  0.272\n",
      "Test Bingo:  0.201\n",
      "Test Oneaway:  0.7556\n"
     ]
    }
   ],
   "source": [
    "fusion_test_acc = metrics.accuracy(y_test, pred_fusion[\"prediction\"])\n",
    "count_bingo, aphr_bingo, percent_bingo = metrics.aphr_bingo(y_test, pred_fusion[\"prediction\"])\n",
    "test_aphr_oneaway = metrics.aphr_oneaway(y_test, pred_fusion[\"prediction\"])\n",
    "print(\"Test Accuracy: \", test_acc)\n",
    "print(\"Test Bingo: \", percent_bingo)\n",
    "print(\"Test Oneaway: \", test_aphr_oneaway)"
   ]
  }
 ],
 "metadata": {
  "kernelspec": {
   "display_name": "Python 3",
   "language": "python",
   "name": "python3"
  },
  "language_info": {
   "codemirror_mode": {
    "name": "ipython",
    "version": 3
   },
   "file_extension": ".py",
   "mimetype": "text/x-python",
   "name": "python",
   "nbconvert_exporter": "python",
   "pygments_lexer": "ipython3",
   "version": "3.7.1"
  }
 },
 "nbformat": 4,
 "nbformat_minor": 2
}
